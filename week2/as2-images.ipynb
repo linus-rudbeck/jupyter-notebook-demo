{
 "cells": [
  {
   "cell_type": "markdown",
   "id": "a7e4e60b-4543-4a30-964a-e430a02d8cce",
   "metadata": {},
   "source": [
    "# Disregard\n",
    "\n",
    "There is nothing to see here. I just created this repo for demonstration."
   ]
  }
 ],
 "metadata": {
  "kernelspec": {
   "display_name": "Python 3 (ipykernel)",
   "language": "python",
   "name": "python3"
  },
  "language_info": {
   "codemirror_mode": {
    "name": "ipython",
    "version": 3
   },
   "file_extension": ".py",
   "mimetype": "text/x-python",
   "name": "python",
   "nbconvert_exporter": "python",
   "pygments_lexer": "ipython3",
   "version": "3.12.4"
  }
 },
 "nbformat": 4,
 "nbformat_minor": 5
}
